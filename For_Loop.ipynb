{
 "cells": [
  {
   "cell_type": "markdown",
   "id": "187c52c7",
   "metadata": {},
   "source": [
    "# Assignment Questions"
   ]
  },
  {
   "cell_type": "code",
   "execution_count": 2,
   "id": "1f4cba5c",
   "metadata": {},
   "outputs": [
    {
     "name": "stdout",
     "output_type": "stream",
     "text": [
      "1\n",
      "2\n",
      "3\n",
      "4\n",
      "5\n",
      "6\n",
      "7\n",
      "8\n",
      "9\n",
      "10\n"
     ]
    }
   ],
   "source": [
    "# 1. Write a Python program to print the numbers from 1 to 10 using a `for` loop.\n",
    "for i in range(1,11):\n",
    "    print(i)"
   ]
  },
  {
   "cell_type": "code",
   "execution_count": 4,
   "id": "08a32d20",
   "metadata": {},
   "outputs": [
    {
     "name": "stdout",
     "output_type": "stream",
     "text": [
      "45\n"
     ]
    }
   ],
   "source": [
    "# 2. Create a program that calculates the sum of all numbers in a list using a `for` loop.\n",
    "l=[1,2,3,4,5,6,7,8,9]\n",
    "sum=0\n",
    "for i in l:\n",
    "    sum=sum+i\n",
    "print(sum)"
   ]
  },
  {
   "cell_type": "code",
   "execution_count": 6,
   "id": "dac3121d",
   "metadata": {},
   "outputs": [
    {
     "name": "stdout",
     "output_type": "stream",
     "text": [
      "a\n",
      "h\n",
      "j\n",
      "O\n",
      " \n",
      "k\n",
      "e\n",
      "h\n",
      "s\n",
      "i\n",
      "h\n",
      "b\n",
      "A\n"
     ]
    }
   ],
   "source": [
    "# 3. Write a program to print the characters of a string in reverse order using a `for` loop.\n",
    "# Creating the string\n",
    "name=\"Abhishek Ojha\"\n",
    "for i in range(1,len(name)+1):\n",
    "    print(name[-i])\n",
    "    \n"
   ]
  },
  {
   "cell_type": "code",
   "execution_count": 7,
   "id": "13ea5088",
   "metadata": {},
   "outputs": [],
   "source": [
    "# 4. Develop a program that finds the factorial of a given number using a `for` loop.\n"
   ]
  },
  {
   "cell_type": "code",
   "execution_count": 9,
   "id": "ef3c225a",
   "metadata": {},
   "outputs": [
    {
     "name": "stdout",
     "output_type": "stream",
     "text": [
      "Enter the number3\n",
      "6\n"
     ]
    }
   ],
   "source": [
    "n=int(input(\"Enter the number\"))\n",
    "fact=1\n",
    "for i in range(1,n+1):\n",
    "    fact=fact*i\n",
    "print(fact)"
   ]
  },
  {
   "cell_type": "code",
   "execution_count": 11,
   "id": "17c636f9",
   "metadata": {},
   "outputs": [
    {
     "name": "stdout",
     "output_type": "stream",
     "text": [
      "Enter the number5\n",
      "5 * 1 = 5\n",
      "5 * 2 = 10\n",
      "5 * 3 = 15\n",
      "5 * 4 = 20\n",
      "5 * 5 = 25\n",
      "5 * 6 = 30\n",
      "5 * 7 = 35\n",
      "5 * 8 = 40\n",
      "5 * 9 = 45\n",
      "5 * 10 = 50\n"
     ]
    }
   ],
   "source": [
    "# 5. Create a program to print the multiplication table of a given number using a `for` loop.\n",
    "n=int(input(\"Enter the number\"))\n",
    "for i in range(1,11):\n",
    "    print(n,\"*\",i,\"=\",n*i)"
   ]
  },
  {
   "cell_type": "code",
   "execution_count": 15,
   "id": "2d0b82a9",
   "metadata": {},
   "outputs": [
    {
     "name": "stdout",
     "output_type": "stream",
     "text": [
      "5\n",
      "5\n"
     ]
    }
   ],
   "source": [
    "# 6. Write a program that counts the number of even and odd numbers in a list using a `for` loop.\n",
    "l=[1,2,3,4,5,6,7,8,9,0]\n",
    "count=0\n",
    "count1=0\n",
    "for i in l:\n",
    "    if i%2==0:\n",
    "        count=count+1\n",
    "    else:\n",
    "        count1+=1\n",
    "print(count)\n",
    "print(count1)"
   ]
  },
  {
   "cell_type": "code",
   "execution_count": 16,
   "id": "564c13ae",
   "metadata": {},
   "outputs": [
    {
     "name": "stdout",
     "output_type": "stream",
     "text": [
      "1\n",
      "4\n",
      "9\n",
      "16\n",
      "25\n"
     ]
    }
   ],
   "source": [
    "# 7. Develop a program that prints the squares of numbers from 1 to 5 using a `for` loop.\n",
    "for i in range(1,6):\n",
    "    print(i**2)"
   ]
  },
  {
   "cell_type": "code",
   "execution_count": 24,
   "id": "4c7362d4",
   "metadata": {},
   "outputs": [
    {
     "name": "stdout",
     "output_type": "stream",
     "text": [
      "8\n"
     ]
    }
   ],
   "source": [
    "# 8. Create a program to find the length of a string without using the `len()` function.a\n",
    "a=\"Abhishke\"\n",
    "i=0\n",
    "count=0\n",
    "while i<len(a):\n",
    "    count=count+1\n",
    "    i=i+1\n",
    "print(count)"
   ]
  },
  {
   "cell_type": "code",
   "execution_count": 26,
   "id": "e6919444",
   "metadata": {},
   "outputs": [
    {
     "name": "stdout",
     "output_type": "stream",
     "text": [
      "4.5\n"
     ]
    }
   ],
   "source": [
    "# 9. Write a program that calculates the average of a list of numbers using a `for` loop.\n",
    "l=[1,2,3,4,5,6,7,8,9,10]\n",
    "count,sum1=0,0\n",
    "for i in l:\n",
    "    count=count+1\n",
    "    sum1=sum1+i\n",
    "print(sum/count)"
   ]
  },
  {
   "cell_type": "code",
   "execution_count": 33,
   "id": "d748c7dd",
   "metadata": {},
   "outputs": [
    {
     "name": "stdout",
     "output_type": "stream",
     "text": [
      "Enter the number 55\n",
      "1\n",
      "2\n",
      "3\n",
      "5\n",
      "8\n",
      "13\n",
      "21\n",
      "34\n",
      "55\n",
      "89\n",
      "144\n",
      "233\n",
      "377\n",
      "610\n",
      "987\n",
      "1597\n",
      "2584\n",
      "4181\n",
      "6765\n",
      "10946\n",
      "17711\n",
      "28657\n",
      "46368\n",
      "75025\n",
      "121393\n",
      "196418\n",
      "317811\n",
      "514229\n",
      "832040\n",
      "1346269\n",
      "2178309\n",
      "3524578\n",
      "5702887\n",
      "9227465\n",
      "14930352\n",
      "24157817\n",
      "39088169\n",
      "63245986\n",
      "102334155\n",
      "165580141\n",
      "267914296\n",
      "433494437\n",
      "701408733\n",
      "1134903170\n",
      "1836311903\n",
      "2971215073\n",
      "4807526976\n",
      "7778742049\n",
      "12586269025\n",
      "20365011074\n",
      "32951280099\n",
      "53316291173\n",
      "86267571272\n",
      "139583862445\n",
      "225851433717\n"
     ]
    }
   ],
   "source": [
    "# 10. Develop a program that prints the first `n` Fibonacci numbers using a `for` loop.\n",
    "n=int(input(\"Enter the number \"))\n",
    "n1,n2,i=0,1,0,\n",
    "while i<n:\n",
    "    \n",
    "    nth=n1+n2\n",
    "    print(nth)\n",
    "    n1=n2\n",
    "    n2=nth\n",
    "    i=i+1\n"
   ]
  },
  {
   "cell_type": "code",
   "execution_count": 42,
   "id": "ee503a18",
   "metadata": {},
   "outputs": [
    {
     "name": "stdout",
     "output_type": "stream",
     "text": [
      "No duplicate\n"
     ]
    }
   ],
   "source": [
    "# 11. Write a program to check if a given list contains any duplicates using a `for` loop.\n",
    "c=0\n",
    "l=[1,2,3,4,5,6]\n",
    "#l=[1,2,3,4,5,4,2,6,7,8]\n",
    "for i in l:\n",
    "    if l.count(i)>=2:\n",
    "        c=c+1\n",
    "if c==0:\n",
    "    print(\"No duplicate\")\n",
    "else:\n",
    "    print(\"Duplicarte\")"
   ]
  },
  {
   "cell_type": "code",
   "execution_count": 39,
   "id": "6b5f7dd5",
   "metadata": {},
   "outputs": [
    {
     "name": "stdout",
     "output_type": "stream",
     "text": [
      "[2, 3, 4, 5, 1, 2, 1, 1]\n",
      "[3, 4, 5, 1, 2, 1, 1]\n",
      "[4, 5, 1, 2, 1, 1]\n",
      "[5, 1, 2, 1, 1]\n",
      "[1, 2, 1, 1]\n",
      "[2, 1, 1]\n",
      "[1, 1]\n",
      "[1]\n",
      "[]\n",
      "4\n"
     ]
    }
   ],
   "source": [
    "# for checking purpose \n",
    "l=[1,2,3,4,5,1,2,1,1]\n",
    "s,count=0,0\n",
    "for i in l:\n",
    "    s=s+1\n",
    "    print(l[s:])\n",
    "    if i in l[s:]:\n",
    "        \n",
    "        count=count+1\n",
    "print(count)"
   ]
  },
  {
   "cell_type": "code",
   "execution_count": 5,
   "id": "d573da6c",
   "metadata": {},
   "outputs": [
    {
     "name": "stdout",
     "output_type": "stream",
     "text": [
      "Enter the number99\n",
      "2\n",
      "3\n",
      "5\n",
      "7\n",
      "11\n",
      "13\n",
      "17\n",
      "19\n",
      "23\n",
      "29\n",
      "31\n",
      "37\n",
      "41\n",
      "43\n",
      "47\n",
      "53\n",
      "59\n",
      "61\n",
      "67\n",
      "71\n",
      "73\n",
      "79\n",
      "83\n",
      "89\n",
      "97\n"
     ]
    }
   ],
   "source": [
    "# 12. Create a program that prints the prime numbers in a given range using a `for` loop.\n",
    "n=int(input(\"Enter the number\"))\n",
    "for i in range(1,n):\n",
    "    c=0\n",
    "    for j in range(1,i):\n",
    "        if i%j==0:\n",
    "            \n",
    "            c=c+1\n",
    "    if c==1:\n",
    "        print(i)"
   ]
  },
  {
   "cell_type": "code",
   "execution_count": 7,
   "id": "ae14bb42",
   "metadata": {},
   "outputs": [
    {
     "name": "stdout",
     "output_type": "stream",
     "text": [
      "5\n"
     ]
    }
   ],
   "source": [
    "# 13. Develop a program that counts the number of vowels in a string using a `for` loop.\n",
    "a=\"AbhishekOJha\"\n",
    "a=a.lower()\n",
    "s=0\n",
    "v=['a','e','i','o','u']\n",
    "for i in v:\n",
    "    s=s+a.count(i)\n",
    "print(s)\n"
   ]
  },
  {
   "cell_type": "code",
   "execution_count": 14,
   "id": "8496a0c4",
   "metadata": {},
   "outputs": [
    {
     "name": "stdout",
     "output_type": "stream",
     "text": [
      "[3, 4]\n",
      "[5, 3]\n",
      "[2, 3, 4, 4, 5]\n"
     ]
    }
   ],
   "source": [
    "# 14. Write a program to find the maximum element in a 2D list using a nested `for` loop.\n",
    "l=[1,2,3,[2,3,4,4,5],[1,2,3],5]\n",
    "l2=[]\n",
    "l1=[]\n",
    "for i in l:\n",
    "    if type(i)==list:\n",
    "        l1.append(len(i))\n",
    "        l2.append(l.index(i))\n",
    "# print(l2)\n",
    "# print(l1)\n",
    "print(l[l2[l1.index(max(l1))]])   "
   ]
  },
  {
   "cell_type": "code",
   "execution_count": 27,
   "id": "1c7abfe7",
   "metadata": {},
   "outputs": [
    {
     "name": "stdout",
     "output_type": "stream",
     "text": [
      "Enter the number1\n"
     ]
    },
    {
     "data": {
      "text/plain": [
       "[2, 3, 4, 5, 6, 7, 2]"
      ]
     },
     "execution_count": 27,
     "metadata": {},
     "output_type": "execute_result"
    }
   ],
   "source": [
    "# 15. Create a program that removes all occurrences of a specific element from a list using a `for` loop.\n",
    "l=[1,2,3,4,5,6,7,1,2,1,1,1]\n",
    "n=int(input(\"Enter the number\"))\n",
    "for i in range(len(l)):\n",
    "    if n in l:\n",
    "        l.remove(n)\n",
    "l"
   ]
  },
  {
   "cell_type": "code",
   "execution_count": 34,
   "id": "d14eebba",
   "metadata": {},
   "outputs": [
    {
     "name": "stdout",
     "output_type": "stream",
     "text": [
      "1 * 1 = 1\n",
      "1 * 2 = 2\n",
      "1 * 3 = 3\n",
      "1 * 4 = 4\n",
      "1 * 5 = 5\n",
      "1 * 6 = 6\n",
      "1 * 7 = 7\n",
      "1 * 8 = 8\n",
      "1 * 9 = 9\n",
      "1 * 10 = 10\n",
      "\n",
      "2 * 1 = 2\n",
      "2 * 2 = 4\n",
      "2 * 3 = 6\n",
      "2 * 4 = 8\n",
      "2 * 5 = 10\n",
      "2 * 6 = 12\n",
      "2 * 7 = 14\n",
      "2 * 8 = 16\n",
      "2 * 9 = 18\n",
      "2 * 10 = 20\n",
      "\n",
      "3 * 1 = 3\n",
      "3 * 2 = 6\n",
      "3 * 3 = 9\n",
      "3 * 4 = 12\n",
      "3 * 5 = 15\n",
      "3 * 6 = 18\n",
      "3 * 7 = 21\n",
      "3 * 8 = 24\n",
      "3 * 9 = 27\n",
      "3 * 10 = 30\n",
      "\n",
      "4 * 1 = 4\n",
      "4 * 2 = 8\n",
      "4 * 3 = 12\n",
      "4 * 4 = 16\n",
      "4 * 5 = 20\n",
      "4 * 6 = 24\n",
      "4 * 7 = 28\n",
      "4 * 8 = 32\n",
      "4 * 9 = 36\n",
      "4 * 10 = 40\n",
      "\n",
      "5 * 1 = 5\n",
      "5 * 2 = 10\n",
      "5 * 3 = 15\n",
      "5 * 4 = 20\n",
      "5 * 5 = 25\n",
      "5 * 6 = 30\n",
      "5 * 7 = 35\n",
      "5 * 8 = 40\n",
      "5 * 9 = 45\n",
      "5 * 10 = 50\n",
      "\n"
     ]
    }
   ],
   "source": [
    "# 16. Develop a program that generates a multiplication table for numbers from 1 to 5 using a nested `for` loop.\n",
    "for i in range(1,6):\n",
    "    for j in range(1,11):\n",
    "        print(i,\"*\",j,\"=\",i*j)\n",
    "    print()"
   ]
  },
  {
   "cell_type": "code",
   "execution_count": 38,
   "id": "3490957b",
   "metadata": {},
   "outputs": [
    {
     "name": "stdout",
     "output_type": "stream",
     "text": [
      "-5.0 f\n",
      "2495.0 f\n",
      "160.55555555555554 f\n",
      "-11.11111111111111 f\n",
      "0.5555555555555556 f\n"
     ]
    }
   ],
   "source": [
    "# 17. Write a program that converts a list of Fahrenheit temperatures to Celsius using a `for` loop.\n",
    "l=[23,4523,321,12,33]\n",
    "for i in l:\n",
    "    print((i-32)*5/9,\"f\")"
   ]
  },
  {
   "cell_type": "code",
   "execution_count": 39,
   "id": "5bff259c",
   "metadata": {},
   "outputs": [
    {
     "name": "stdout",
     "output_type": "stream",
     "text": [
      "6\n",
      "7\n"
     ]
    }
   ],
   "source": [
    "# 18. Create a program to print the common elements from two lists using a `for` loop.\n",
    "l=[1,2,3,4,5,6,7]\n",
    "l1=[6,7,8,9,0]\n",
    "a,b=len(l),len(l1)\n",
    "if a>b:\n",
    "    for i in l1:\n",
    "        if i in l:\n",
    "            print(i)\n",
    "else:\n",
    "    for j in l:\n",
    "        if j in l1:\n",
    "            print(j)"
   ]
  },
  {
   "cell_type": "code",
   "execution_count": 43,
   "id": "5e273764",
   "metadata": {},
   "outputs": [
    {
     "name": "stdout",
     "output_type": "stream",
     "text": [
      "\n",
      "*\n",
      "**\n",
      "***\n",
      "****\n",
      "*****\n",
      "******\n",
      "*******\n",
      "********\n",
      "*********\n"
     ]
    }
   ],
   "source": [
    "\n",
    "# 19. Develop a program that prints the pattern of right-angled triangles using a `for` loop. Use ‘*’ to draw the\n",
    "#pattern\n",
    "for i in range(10):\n",
    "    for j in range(i):\n",
    "        print(\"*\",end=\"\")\n",
    "    print()"
   ]
  },
  {
   "cell_type": "code",
   "execution_count": 50,
   "id": "00f60c9b",
   "metadata": {},
   "outputs": [
    {
     "data": {
      "text/plain": [
       "3"
      ]
     },
     "execution_count": 50,
     "metadata": {},
     "output_type": "execute_result"
    }
   ],
   "source": [
    "#20. Write a program to find the greatest common divisor (GCD) of two numbers using a `for` loop.\n",
    "a=12\n",
    "b=15\n",
    "l=[]\n",
    "l1=[]\n",
    "ls=[]\n",
    "for i in range(1,a+1):\n",
    "    if a%i==0:\n",
    "        l.append(i)\n",
    "    \n",
    "for j in range(1,b+1):\n",
    "    if b%j==0:\n",
    "        l1.append(j)\n",
    "for k in l:\n",
    "    if k in l1:\n",
    "        ls.append(k)\n",
    "max(ls)"
   ]
  },
  {
   "cell_type": "code",
   "execution_count": 87,
   "id": "5e0d493c",
   "metadata": {},
   "outputs": [
    {
     "data": {
      "text/plain": [
       "45"
      ]
     },
     "execution_count": 87,
     "metadata": {},
     "output_type": "execute_result"
    }
   ],
   "source": [
    "# 21. Create a program that calculates the sum of the digits of numbers in a list using a list comprehension.\n",
    "l=[1,2,3,4,5,6,7,8,9,0]\n",
    "su=0\n",
    "l1=[i for i in l ]\n",
    "sum(l1)"
   ]
  },
  {
   "cell_type": "code",
   "execution_count": 81,
   "id": "f1449b5c",
   "metadata": {},
   "outputs": [
    {
     "name": "stdout",
     "output_type": "stream",
     "text": [
      "Enter the number12345\n",
      "[1, 3, 5, 15, 823, 2469, 4115]\n",
      "3\n",
      "5\n",
      "823\n"
     ]
    }
   ],
   "source": [
    "# 22. Write a program to find the prime factors of a given number using a `for` loop and list comprehension.\n",
    "n=int(input(\"Enter the number\"))\n",
    "l=[i for i in range(1,n) if n%i==0]\n",
    "print(l)\n",
    "for i in l:\n",
    "    c=0\n",
    "    for j in range(1,i):\n",
    "        if i%j==0:\n",
    "            c=c+1\n",
    "    if c==1:\n",
    "        print(i)"
   ]
  },
  {
   "cell_type": "code",
   "execution_count": 125,
   "id": "ba8b5197",
   "metadata": {},
   "outputs": [
    {
     "data": {
      "text/plain": [
       "[6, 7, 89, 11, 12, 13]"
      ]
     },
     "execution_count": 125,
     "metadata": {},
     "output_type": "execute_result"
    }
   ],
   "source": [
    "# 23. Develop a program that extracts unique elements from a list and stores them in a new list using a list\n",
    "# comprehension.\n",
    "l=[1,2,3,4,5,6,7,89,1,2,3,4,5,11,12,1,13]\n",
    "l1=[i for i in l if l.count(i)==1]\n",
    "l1\n"
   ]
  },
  {
   "cell_type": "code",
   "execution_count": 159,
   "id": "ba77d03a",
   "metadata": {},
   "outputs": [
    {
     "name": "stdout",
     "output_type": "stream",
     "text": [
      "Enter the number1111\n",
      "1\n",
      "2\n",
      "3\n",
      "4\n",
      "5\n",
      "6\n",
      "7\n",
      "8\n",
      "9\n",
      "11\n",
      "22\n",
      "33\n",
      "44\n",
      "55\n",
      "66\n",
      "77\n",
      "88\n",
      "99\n",
      "101\n",
      "111\n",
      "121\n",
      "131\n",
      "141\n",
      "151\n",
      "161\n",
      "171\n",
      "181\n",
      "191\n",
      "202\n",
      "212\n",
      "222\n",
      "232\n",
      "242\n",
      "252\n",
      "262\n",
      "272\n",
      "282\n",
      "292\n",
      "303\n",
      "313\n",
      "323\n",
      "333\n",
      "343\n",
      "353\n",
      "363\n",
      "373\n",
      "383\n",
      "393\n",
      "404\n",
      "414\n",
      "424\n",
      "434\n",
      "444\n",
      "454\n",
      "464\n",
      "474\n",
      "484\n",
      "494\n",
      "505\n",
      "515\n",
      "525\n",
      "535\n",
      "545\n",
      "555\n",
      "565\n",
      "575\n",
      "585\n",
      "595\n",
      "606\n",
      "616\n",
      "626\n",
      "636\n",
      "646\n",
      "656\n",
      "666\n",
      "676\n",
      "686\n",
      "696\n",
      "707\n",
      "717\n",
      "727\n",
      "737\n",
      "747\n",
      "757\n",
      "767\n",
      "777\n",
      "787\n",
      "797\n",
      "808\n",
      "818\n",
      "828\n",
      "838\n",
      "848\n",
      "858\n",
      "868\n",
      "878\n",
      "888\n",
      "898\n",
      "909\n",
      "919\n",
      "929\n",
      "939\n",
      "949\n",
      "959\n",
      "969\n",
      "979\n",
      "989\n",
      "999\n",
      "1001\n",
      "1111\n"
     ]
    },
    {
     "data": {
      "text/plain": [
       "'\\na=123\\ns=\"\"\\nfor i in range(len(str(a))):\\n    b=a%10\\n    s=s+str(int(b))\\n    print(int(b))\\n    a=a/10\\ns\\n'"
      ]
     },
     "execution_count": 159,
     "metadata": {},
     "output_type": "execute_result"
    }
   ],
   "source": [
    "# 24. Create a program that generates a list of all palindromic numbers up to a specified limit using a list\n",
    "#comprehension.\n",
    "n=int(input(\"Enter the number\"))\n",
    "l=[i for i in range(1,n+1)]\n",
    "for i in l:\n",
    "    temp=str(i)\n",
    "    if i==int(temp[::-1]):\n",
    "        print(i)\n",
    "\n",
    "\"\"\"\n",
    "a=123\n",
    "s=\"\"\n",
    "for i in range(len(str(a))):\n",
    "    b=a%10\n",
    "    s=s+str(int(b))\n",
    "    print(int(b))\n",
    "    a=a/10\n",
    "s\n",
    "\"\"\""
   ]
  },
  {
   "cell_type": "code",
   "execution_count": 139,
   "id": "dc76c7cf",
   "metadata": {},
   "outputs": [
    {
     "data": {
      "text/plain": [
       "[1, 2, 1, 2, 3, 4]"
      ]
     },
     "execution_count": 139,
     "metadata": {},
     "output_type": "execute_result"
    }
   ],
   "source": [
    "# 25. Write a program to flatten a nested list using list comprehension.\n",
    "l=[[1,2],[1,2],[3,4]]\n",
    "l1=[k for i in l for k in i]\n",
    "l1"
   ]
  },
  {
   "cell_type": "code",
   "execution_count": 141,
   "id": "f587a005",
   "metadata": {},
   "outputs": [
    {
     "name": "stdout",
     "output_type": "stream",
     "text": [
      "[2, 4, 6, 8, 10]\n",
      "[1, 3, 5, 7, 9]\n"
     ]
    }
   ],
   "source": [
    "# 26. Develop a program that computes the sum of even and odd numbers in a list separately using list\n",
    "#comprehension.\n",
    "l=[1,2,3,4,5,6,7,8,9,10]\n",
    "l1=[ i for i in l if i%2==0]\n",
    "l2=[k for k in l if k%2!=0]\n",
    "print(l1)\n",
    "print(l2)"
   ]
  },
  {
   "cell_type": "code",
   "execution_count": 161,
   "id": "2959d13c",
   "metadata": {},
   "outputs": [
    {
     "data": {
      "text/plain": [
       "[1, 9, 25, 49, 81]"
      ]
     },
     "execution_count": 161,
     "metadata": {},
     "output_type": "execute_result"
    }
   ],
   "source": [
    "# 27. Create a program that generates a list of squares of odd numbers between 1 and 10 using list\n",
    "# comprehension.\n",
    "l=[i**2 for i in range(1,11) if i%2!=0]\n",
    "l\n"
   ]
  },
  {
   "cell_type": "code",
   "execution_count": 171,
   "id": "c48396eb",
   "metadata": {},
   "outputs": [
    {
     "data": {
      "text/plain": [
       "{1: 5, 2: 6, 34: 7, 4: 8}"
      ]
     },
     "execution_count": 171,
     "metadata": {},
     "output_type": "execute_result"
    }
   ],
   "source": [
    "# 28. Write a program that combines two lists into a dictionary using list comprehension.\n",
    "l=[1,2,34,4]\n",
    "l1=[5,6,7,8]\n",
    "l2={l[i]:l1[i] for i in range(len(l)) }\n",
    "l2\n",
    "    "
   ]
  },
  {
   "cell_type": "code",
   "execution_count": 173,
   "id": "c1d5782d",
   "metadata": {},
   "outputs": [
    {
     "name": "stdout",
     "output_type": "stream",
     "text": [
      "['a', 'e', 'i', 'o', 'u', 'A', 'E', 'I', 'O', 'U']\n"
     ]
    },
    {
     "data": {
      "text/plain": [
       "['A', 'i', 'e', 'O', 'a']"
      ]
     },
     "execution_count": 173,
     "metadata": {},
     "output_type": "execute_result"
    }
   ],
   "source": [
    "# 29. Develop a program that extracts the vowels from a string and stores them in a list using list comprehension.\n",
    "st=\"Abhishek Ojha\"\n",
    "v=[i for i in \"aeiouAEIOU\"]\n",
    "#print(v)\n",
    "l=[i for i in st if i in v]\n",
    "l"
   ]
  },
  {
   "cell_type": "code",
   "execution_count": 176,
   "id": "62dec012",
   "metadata": {},
   "outputs": [
    {
     "data": {
      "text/plain": [
       "[1, 2, 3, 2]"
      ]
     },
     "execution_count": 176,
     "metadata": {},
     "output_type": "execute_result"
    }
   ],
   "source": [
    "# 30. Create a program that removes all non-numeric characters from a list of strings using list comprehension\n",
    "l=[1,2,3,'a',2,'b']\n",
    "l1=[i for i in l if type(i)==int]\n",
    "l1"
   ]
  },
  {
   "cell_type": "code",
   "execution_count": 203,
   "id": "1e4fde53",
   "metadata": {},
   "outputs": [
    {
     "name": "stdout",
     "output_type": "stream",
     "text": [
      "2\n",
      "3\n",
      "5\n",
      "7\n",
      "11\n",
      "13\n",
      "17\n",
      "19\n",
      "23\n",
      "29\n",
      "31\n",
      "37\n",
      "41\n",
      "43\n",
      "47\n",
      "53\n",
      "59\n",
      "61\n",
      "67\n",
      "71\n",
      "73\n",
      "79\n",
      "83\n",
      "89\n",
      "97\n",
      "None\n"
     ]
    }
   ],
   "source": [
    "#31Write a program to generate a list of prime numbers using the Sieve of Eratosthenes algorithm and list\n",
    "#comprehension.\n",
    "def prime_eratosthenes(n):\n",
    "    prime_list = []\n",
    "    for i in range(2, n+1):\n",
    "        if i not in prime_list:\n",
    "            print (i)\n",
    "            for j in range(i*i, n+1, i):\n",
    "                prime_list.append(j)\n",
    "\n",
    "print(prime_eratosthenes(100));"
   ]
  },
  {
   "cell_type": "code",
   "execution_count": 204,
   "id": "cf7be56a",
   "metadata": {},
   "outputs": [
    {
     "name": "stdout",
     "output_type": "stream",
     "text": [
      "Enter the value of n:55\n",
      "[(3, 4, 5), (8, 6, 10), (5, 12, 13), (15, 8, 17), (12, 16, 20), (7, 24, 25), (24, 10, 26), (21, 20, 29), (16, 30, 34), (9, 40, 41), (35, 12, 37), (32, 24, 40), (27, 36, 45), (20, 48, 52)]\n"
     ]
    }
   ],
   "source": [
    "# 32. Create a program that generates a list of all Pythagorean triplets up to a specified limit using list\n",
    "#comprehension.\n",
    "n = int(input(\"Enter the value of n:\"))\n",
    "\n",
    "a = 0\n",
    "b = 0\n",
    "c = 0\n",
    "m = 2\n",
    "triples = []\n",
    "\n",
    "while c < n:\n",
    "    for i in range(1, m, 1):\n",
    "        a = m*m - i*i\n",
    "        b = 2*m*i\n",
    "        c = m*m + i*i\n",
    "        if c > n:\n",
    "            break\n",
    "        triples.append((a, b, c))\n",
    "    m += 1\n",
    "\n",
    "print(triples)"
   ]
  },
  {
   "cell_type": "code",
   "execution_count": 205,
   "id": "20e4f23e",
   "metadata": {},
   "outputs": [
    {
     "name": "stdout",
     "output_type": "stream",
     "text": [
      "[('b', 1), ('b', 4), ('b', 9), ('c', 1), ('c', 4), ('c', 9), ('d', 1), ('d', 4), ('d', 9)]\n"
     ]
    }
   ],
   "source": [
    "# 33. Develop a program that generates a list of all possible combinations of two lists using list comprehension.\n",
    "list_1 = [\"b\", \"c\", \"d\"]\n",
    "list_2 = [1, 4, 9]\n",
    " \n",
    "unique_combinations = []\n",
    " \n",
    "for i in range(len(list_1)):\n",
    "    for j in range(len(list_2)):\n",
    "        unique_combinations.append((list_1[i], list_2[j]))\n",
    " \n",
    "print(unique_combinations)"
   ]
  },
  {
   "cell_type": "code",
   "execution_count": 206,
   "id": "2753992e",
   "metadata": {},
   "outputs": [
    {
     "name": "stdout",
     "output_type": "stream",
     "text": [
      "Mean / Average is: 3.0\n"
     ]
    }
   ],
   "source": [
    "# 34. Write a program that calculates the mean, median, and mode of a list of numbers using list\n",
    "#comprehension.\n",
    "n_num = [1, 2, 3, 4, 5]\n",
    "n = len(n_num)\n",
    " \n",
    "get_sum = sum(n_num)\n",
    "mean = get_sum / n\n",
    "\n",
    "print(\"Mean / Average is: \" + str(mean))"
   ]
  },
  {
   "cell_type": "code",
   "execution_count": 207,
   "id": "031221fb",
   "metadata": {},
   "outputs": [
    {
     "name": "stdout",
     "output_type": "stream",
     "text": [
      "     1\n",
      "    1 1\n",
      "   1 2 1\n",
      "  1 3 3 1\n",
      " 1 4 6 4 1\n"
     ]
    }
   ],
   "source": [
    "# 35. Create a program that generates Pascal's triangle up to a specified number of rows using list\n",
    "#comprehension.\n",
    "n = 5\n",
    " \n",
    "# iterarte upto n\n",
    "for i in range(n):\n",
    "    # adjust space\n",
    "    print(' '*(n-i), end='')\n",
    " \n",
    "    # compute power of 11\n",
    "    print(' '.join(map(str, str(11**i))))"
   ]
  },
  {
   "cell_type": "code",
   "execution_count": 208,
   "id": "16243510",
   "metadata": {},
   "outputs": [
    {
     "name": "stdout",
     "output_type": "stream",
     "text": [
      "The original list is : [12, 67, 98, 34]\n",
      "List Integer Summation : [3, 13, 17, 7]\n"
     ]
    }
   ],
   "source": [
    "# 36. Develop a program that calculates the sum of the digits of a factorial of numbers from 1 to 5 using list\n",
    "#comprehension.\n",
    "test_list = [12, 67, 98, 34]\n",
    " \n",
    "# printing original list\n",
    "print(\"The original list is : \" + str(test_list))\n",
    " \n",
    "# Sum of number digits in List\n",
    "# using loop + str()\n",
    "res = []\n",
    "for ele in test_list:\n",
    "    sum = 0\n",
    "    for digit in str(ele):\n",
    "        sum += int(digit)\n",
    "    res.append(sum)\n",
    "     \n",
    "# printing result\n",
    "print (\"List Integer Summation : \" + str(res))"
   ]
  },
  {
   "cell_type": "code",
   "execution_count": 209,
   "id": "cb466143",
   "metadata": {},
   "outputs": [
    {
     "name": "stdout",
     "output_type": "stream",
     "text": [
      "The word with the longest length is: third  and length is  5\n"
     ]
    }
   ],
   "source": [
    "#37. Write a program that finds the longest word in a sentence using list comprehension.\n",
    "def longestLength(words):\n",
    "    res=max(words,key=len)\n",
    "    print(\"The word with the longest length is:\", res,\n",
    "          \" and length is \", len(res))\n",
    " \n",
    " \n",
    "# Driver Program\n",
    "a = [\"one\", \"two\", \"third\", \"four\"]\n",
    "longestLength(a)"
   ]
  },
  {
   "cell_type": "code",
   "execution_count": 211,
   "id": "9d9f4d33",
   "metadata": {},
   "outputs": [
    {
     "name": "stdout",
     "output_type": "stream",
     "text": [
      "The original list is : ['gfg', 'best', 'for', 'Abhishek']\n",
      "Maximum vowels word : Abhishek\n"
     ]
    }
   ],
   "source": [
    "# 38. Create a program that filters a list of strings to include only those with more than three vowels using list\n",
    "#comprehension.\n",
    "test_list = [\"gfg\", \"best\", \"for\", \"Abhishek\"]\n",
    " \n",
    "# printing original list\n",
    "print(\"The original list is : \" + str(test_list))\n",
    " \n",
    " \n",
    "def vc(s):\n",
    "    x = s.count(\"a\")+s.count(\"e\")+s.count(\"i\")+s.count(\"o\")+s.count(\"u\")\n",
    "    return x\n",
    " \n",
    " \n",
    "res = []\n",
    " \n",
    "# Iterating elements in list\n",
    "for ele in test_list:\n",
    "    res.append(vc(ele))\n",
    "a = res.index(max(res))\n",
    "re = test_list[a]\n",
    " \n",
    "# Printing the result\n",
    "print(\"Maximum vowels word : \" + str(re))"
   ]
  },
  {
   "cell_type": "code",
   "execution_count": 195,
   "id": "3e52ac5f",
   "metadata": {},
   "outputs": [
    {
     "data": {
      "text/plain": [
       "500500"
      ]
     },
     "execution_count": 195,
     "metadata": {},
     "output_type": "execute_result"
    }
   ],
   "source": [
    "# 39. Develop a program that calculates the sum of the digits of numbers from 1 to 1000 using list\n",
    "#comprehension.\n",
    "l=sum([i for i in range(1,1001)])\n",
    "l"
   ]
  },
  {
   "cell_type": "code",
   "execution_count": 212,
   "id": "156c9a3c",
   "metadata": {},
   "outputs": [
    {
     "name": "stdout",
     "output_type": "stream",
     "text": [
      "121\n",
      "141\n",
      "252\n",
      "Total palindrome nos. are 3\n"
     ]
    }
   ],
   "source": [
    "# 40. Write a program that generates a list of prime palindromic numbers using list comprehension.\n",
    "def palindromeNumbers(list_a):\n",
    "    c = 0\n",
    "    for i in list_a:\n",
    "        if str(i) == str(i)[::-1]:\n",
    "            print(i)\n",
    "            c += 1\n",
    "    print(\"Total palindrome nos. are\", c)\n",
    " \n",
    " \n",
    "list_a = [10, 121, 133, 155, 141, 252]\n",
    "palindromeNumbers(list_a)"
   ]
  },
  {
   "cell_type": "code",
   "execution_count": null,
   "id": "21d393d8",
   "metadata": {},
   "outputs": [],
   "source": []
  }
 ],
 "metadata": {
  "kernelspec": {
   "display_name": "Python 3 (ipykernel)",
   "language": "python",
   "name": "python3"
  },
  "language_info": {
   "codemirror_mode": {
    "name": "ipython",
    "version": 3
   },
   "file_extension": ".py",
   "mimetype": "text/x-python",
   "name": "python",
   "nbconvert_exporter": "python",
   "pygments_lexer": "ipython3",
   "version": "3.9.12"
  }
 },
 "nbformat": 4,
 "nbformat_minor": 5
}
